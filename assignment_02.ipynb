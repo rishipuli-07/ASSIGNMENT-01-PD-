{
  "nbformat": 4,
  "nbformat_minor": 0,
  "metadata": {
    "colab": {
      "provenance": [],
      "authorship_tag": "ABX9TyNDThIPCSN8h0E1iK9+l0or",
      "include_colab_link": true
    },
    "kernelspec": {
      "name": "python3",
      "display_name": "Python 3"
    },
    "language_info": {
      "name": "python"
    }
  },
  "cells": [
    {
      "cell_type": "markdown",
      "metadata": {
        "id": "view-in-github",
        "colab_type": "text"
      },
      "source": [
        "<a href=\"https://colab.research.google.com/github/rishipuli-07/PYTHON-FOR-DATA-SCIENCE/blob/main/assignment_02.ipynb\" target=\"_parent\"><img src=\"https://colab.research.google.com/assets/colab-badge.svg\" alt=\"Open In Colab\"/></a>"
      ]
    },
    {
      "cell_type": "code",
      "execution_count": 1,
      "metadata": {
        "colab": {
          "base_uri": "https://localhost:8080/"
        },
        "id": "42qiI4NBe6Ei",
        "outputId": "cc77e167-7ee0-463c-b132-8b999219d73f"
      },
      "outputs": [
        {
          "output_type": "stream",
          "name": "stdout",
          "text": [
            "Enter a number to calculate factorial: 5\n",
            "Factorial (Recursive) of 5: 120\n",
            "Factorial (Iterative) of 5: 120\n",
            "Python's maximum recursion limit is: 1000\n"
          ]
        }
      ],
      "source": [
        "import sys\n",
        "\n",
        "def factorial_recursive(n):\n",
        "    if n == 0 or n == 1:\n",
        "        return 1\n",
        "    else:\n",
        "        return n * factorial_recursive(n - 1)\n",
        "\n",
        "def factorial_iterative(n):\n",
        "    result = 1\n",
        "    for i in range(1, n + 1):\n",
        "        result *= i\n",
        "    return result\n",
        "\n",
        "n = int(input(\"Enter a number to calculate factorial: \"))\n",
        "\n",
        "if n > 998:\n",
        "    print(\"Warning: n > 998 might cause recursion depth issues.\")\n",
        "\n",
        "try:\n",
        "    result_recursive = factorial_recursive(n)\n",
        "    print(f\"Factorial (Recursive) of {n}: {result_recursive}\")\n",
        "except RecursionError:\n",
        "    print(\"Error: Maximum recursion depth exceeded.\")\n",
        "\n",
        "result_iterative = factorial_iterative(n)\n",
        "print(f\"Factorial (Iterative) of {n}: {result_iterative}\")\n",
        "\n",
        "print(f\"Python's maximum recursion limit is: {sys.getrecursionlimit()}\")\n"
      ]
    }
  ]
}