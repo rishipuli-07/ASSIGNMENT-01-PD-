{
  "nbformat": 4,
  "nbformat_minor": 0,
  "metadata": {
    "colab": {
      "provenance": [],
      "authorship_tag": "ABX9TyPCVH90yB59/O5wuD+33VuP",
      "include_colab_link": true
    },
    "kernelspec": {
      "name": "python3",
      "display_name": "Python 3"
    },
    "language_info": {
      "name": "python"
    }
  },
  "cells": [
    {
      "cell_type": "markdown",
      "metadata": {
        "id": "view-in-github",
        "colab_type": "text"
      },
      "source": [
        "<a href=\"https://colab.research.google.com/github/rishipuli-07/ASSIGNMENT-01-PD-/blob/main/ASSIGNMENT_01.ipynb\" target=\"_parent\"><img src=\"https://colab.research.google.com/assets/colab-badge.svg\" alt=\"Open In Colab\"/></a>"
      ]
    },
    {
      "cell_type": "code",
      "source": [
        "def factorial(n):\n",
        "    if n == 0 or n == 1:\n",
        "        return 1\n",
        "    else:\n",
        "        return n * factorial(n - 1)\n",
        "\n",
        "def permutation(n, r):\n",
        "    return factorial(n) // factorial(n - r)\n",
        "\n",
        "n = int(input(\"Enter n (total items): \"))\n",
        "r = int(input(\"Enter r (selected items): \"))\n",
        "\n",
        "if n >= r:\n",
        "    result = permutation(n, r)\n",
        "    print(f\"{n}P{r} = {result}\")\n",
        "else:\n",
        "    print(\"Error: n must be greater than or equal to r\")\n"
      ],
      "metadata": {
        "colab": {
          "base_uri": "https://localhost:8080/"
        },
        "id": "aZjqAYMqbgR0",
        "outputId": "d44d9ab6-b778-4122-f00f-a74a74599d04"
      },
      "execution_count": 4,
      "outputs": [
        {
          "output_type": "stream",
          "name": "stdout",
          "text": [
            "Enter n (total items): 5\n",
            "Enter r (selected items): 3\n",
            "5P3 = 60\n"
          ]
        }
      ]
    }
  ]
}